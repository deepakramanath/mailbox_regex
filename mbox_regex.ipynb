{
 "metadata": {
  "name": "",
  "signature": "sha256:f70d6e0d17bd576ddc982b19971eda317c94c59654fcbbb79399a7e9228e1bf9"
 },
 "nbformat": 3,
 "nbformat_minor": 0,
 "worksheets": [
  {
   "cells": [
    {
     "cell_type": "heading",
     "level": 1,
     "metadata": {},
     "source": [
      "Introduction"
     ]
    },
    {
     "cell_type": "markdown",
     "metadata": {},
     "source": [
      "In this program, we use Python regex to extract names and email addresses from a mail transaction file. The same can be acheived without the use of regex, however, to highlight some of the capabilites of regex, we employ this method. The file that has been used to process here is obtained from http://www.py4inf.com/code/mbox.txt. The regex is carried out on this `mbox.txt` file and all the corresponding names and email addresses will be extracted as discussed below."
     ]
    },
    {
     "cell_type": "code",
     "collapsed": false,
     "input": [
      "import re"
     ],
     "language": "python",
     "metadata": {},
     "outputs": [],
     "prompt_number": 15
    },
    {
     "cell_type": "markdown",
     "metadata": {},
     "source": [
      "Since we process only a text file and do not intend to plot, the only module to import would be the `regex` module. This would be `re` in `Python`"
     ]
    },
    {
     "cell_type": "code",
     "collapsed": false,
     "input": [
      "emailCompile = re.compile(r'\\w+:[ ]?(?P<email>\\w+[\\.]?\\w+\\@[a-zA-z0-9\\.?]+)')\n",
      "nameCompile = re.compile(r'\\w+:[ ]?(?P<name>\\w+[\\.]?\\w+)')\n",
      "nameCompleEmail = re.compile(r'(?P<name2>\\w+[\\.]?\\w+)')"
     ],
     "language": "python",
     "metadata": {},
     "outputs": [],
     "prompt_number": 16
    },
    {
     "cell_type": "markdown",
     "metadata": {},
     "source": [
      "The first thing we do here is to compile the regex pattern. This is the preferred way of using regex, that is, when we compile the regex pattern, we obtain the bytecode and then we can subsequently search using the compiled bytecode. In the above part of the code, we first compile for the email address. At this stage, it may be ideal to look at the `mbox.txt` file and in particular look for the lines that contains the string `From:` with an email address. For compiling the regex in Python, we use what we call the raw string notation, `r`. Without the use of `r`, the backslashes are treated as escape characters and we would have to use two backslashes within our regex instead of one.\n",
      "\n",
      "After the compilation of the email, we compile for extracting the name from the email address (note that we do not have any extra information in the text file that gives us the name. We are merely extracting the prefix of the email address which is the text before the `@` symbol. However, note that the names can also be exracted directly from the email address that we regex in the first instance. The last line therefore shows the regex patter to do this latter approach. As we will see below, we compare the names obtained from both these regex patterns to see if they match exactly. Also, to be noted is that we use regex grouping with names such as 'email', 'name' and 'name2' so that when we search, we can grab the information quite easily."
     ]
    },
    {
     "cell_type": "code",
     "collapsed": false,
     "input": [
      "Emails = []\n",
      "Names = []\n",
      "Names2 = []"
     ],
     "language": "python",
     "metadata": {},
     "outputs": [],
     "prompt_number": 17
    },
    {
     "cell_type": "markdown",
     "metadata": {},
     "source": [
      "Here, we create empty lists for us to store the extracted emails and names after performing the regex search"
     ]
    },
    {
     "cell_type": "code",
     "collapsed": false,
     "input": [
      "with open('mbox.txt', 'r') as mboxData:\n",
      "    for line in mboxData:\n",
      "        if \"From:\" in line:\n",
      "            emailSearch = emailCompile.search(line.rstrip())\n",
      "            nameSearch = nameCompile.search(line.rstrip())\n",
      "            email = emailSearch.group('email')\n",
      "            name = nameSearch.group('name')\n",
      "            # Name search from email address\n",
      "            name2Search = nameCompleEmail.search(email)\n",
      "            name2 = name2Search.group('name2')\n",
      "            Emails.append(email)\n",
      "            Names.append(name)\n",
      "            Names2.append(name)\n",
      "            \n",
      "if Names == Names2:\n",
      "    print \"Name search matches both regex methods\"\n",
      "else:\n",
      "    print \"Check your code\""
     ],
     "language": "python",
     "metadata": {},
     "outputs": [
      {
       "output_type": "stream",
       "stream": "stdout",
       "text": [
        "Name search matches both regex methods\n"
       ]
      }
     ],
     "prompt_number": 18
    },
    {
     "cell_type": "markdown",
     "metadata": {},
     "source": [
      "Now, we `open` the `mbox.txt` file and read line by line and subsequently search for the lines that contain the string `From:`. We then search the compiled regex pattern for email over each of the line that contains `From:`. Similarly, we search for names on the same `line`. As mentioned previously, we also search for names from the email address as given in the line `name2Search = nameCompleEmail.search(email)` and store the data in `name2`. Finally, we append all the search results to the list.\n",
      "\n",
      "Next, we test if the two regex approaches result identical search data by comparing two lists, `Names` and `Names2`. If successful, we should get the `print` statement.\n",
      "\n",
      "At this stage, examining the lists, `Emails` or `Names` would indicate that there are duplicate entries (The user is free to print these lists to self check the result). This obviously is not an artefact, but there are such multiple emails and names present in the `mbox.txt` file and we have to remove the duplicate entries. To do this, we first create two empty lists for appending the final emails and names and perform the following."
     ]
    },
    {
     "cell_type": "code",
     "collapsed": false,
     "input": [
      "finalEmails = []\n",
      "finalNames = []\n",
      "\n",
      "for Email in Emails:\n",
      "    if not Email in finalEmails:\n",
      "        finalEmails.append(Email)\n",
      "\n",
      "for Name in Names:\n",
      "    if not Name in finalNames:\n",
      "        finalNames.append(Name)"
     ],
     "language": "python",
     "metadata": {},
     "outputs": [],
     "prompt_number": 19
    },
    {
     "cell_type": "markdown",
     "metadata": {},
     "source": [
      "Finally, we make a `tuple` to better represent the data extracted and to print on the screen as follows through iterating the `tuple`"
     ]
    },
    {
     "cell_type": "code",
     "collapsed": false,
     "input": [
      "NamesEmails = zip(finalNames, finalEmails)\n",
      "\n",
      "for N, E in NamesEmails:\n",
      "    print \"Name: %s\\t\\t Email: %s\" % (N, E)"
     ],
     "language": "python",
     "metadata": {},
     "outputs": []
    },
    {
     "cell_type": "markdown",
     "metadata": {},
     "source": []
    }
   ],
   "metadata": {}
  }
 ]
}